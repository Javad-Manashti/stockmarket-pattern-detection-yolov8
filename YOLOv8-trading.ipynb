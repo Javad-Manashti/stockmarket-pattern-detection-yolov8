{
 "cells": [
  {
   "cell_type": "code",
   "execution_count": 1,
   "metadata": {},
   "outputs": [
    {
     "name": "stderr",
     "output_type": "stream",
     "text": [
      "/home/javad/project/stockmarket-pattern-detection-yolov8/myenv/lib/python3.10/site-packages/tqdm/auto.py:21: TqdmWarning: IProgress not found. Please update jupyter and ipywidgets. See https://ipywidgets.readthedocs.io/en/stable/user_install.html\n",
      "  from .autonotebook import tqdm as notebook_tqdm\n"
     ]
    },
    {
     "name": "stdout",
     "output_type": "stream",
     "text": [
      "\n",
      "0: 256x640 1 down, 151.5ms\n",
      "Speed: 1.5ms preprocess, 151.5ms inference, 0.9ms postprocess per image at shape (1, 3, 256, 640)\n",
      "Detected boxes: ultralytics.engine.results.Boxes object with attributes:\n",
      "\n",
      "cls: tensor([0.])\n",
      "conf: tensor([0.3663])\n",
      "data: tensor([[9.0943e+02, 1.4588e+02, 9.8057e+02, 2.4901e+02, 3.6629e-01, 0.0000e+00]])\n",
      "id: None\n",
      "is_track: False\n",
      "orig_shape: (883, 2475)\n",
      "shape: torch.Size([1, 6])\n",
      "xywh: tensor([[944.9972, 197.4489,  71.1406, 103.1286]])\n",
      "xywhn: tensor([[0.3818, 0.2236, 0.0287, 0.1168]])\n",
      "xyxy: tensor([[909.4269, 145.8846, 980.5674, 249.0132]])\n",
      "xyxyn: tensor([[0.3674, 0.1652, 0.3962, 0.2820]])\n",
      "Rendered image is not in the correct format, drawing manually.\n",
      "Manually annotated image saved to images-annotated/annotated_BTCUSD_2024-04-17_09-36-41.png\n"
     ]
    }
   ],
   "source": [
    "import cv2\n",
    "import numpy as np\n",
    "from ultralyticsplus import YOLO, render_result\n",
    "import os\n",
    "\n",
    "# Define the directory for saving annotated images\n",
    "annotated_images_dir = 'images-annotated'\n",
    "# Create the directory if it does not exist\n",
    "if not os.path.exists(annotated_images_dir):\n",
    "    os.makedirs(annotated_images_dir)\n",
    "    \n",
    "\n",
    "# Load the YOLO model only once\n",
    "model = YOLO('foduucom/stockmarket-future-prediction')\n",
    "\n",
    "def yolo_predict(image_path):\n",
    "    image = cv2.imread(image_path)\n",
    "    if image is None:\n",
    "        print(\"Error: Image not found at\", image_path)\n",
    "        return\n",
    "\n",
    "    results = model.predict(image)\n",
    "    if results and results[0].boxes:\n",
    "        print(\"Detected boxes:\", results[0].boxes)\n",
    "        display_and_annotate_image(image, results[0], image_path)\n",
    "    else:\n",
    "        print(\"No detections.\")\n",
    "\n",
    "def display_and_annotate_image(image, detections, original_image_path):\n",
    "    # Prepare the filename to save the annotated image\n",
    "    base_filename = os.path.basename(original_image_path)\n",
    "    annotated_image_path = os.path.join(annotated_images_dir, f\"annotated_{base_filename}\")\n",
    "\n",
    "    # Render or manually annotate image\n",
    "    rendered_image = render_result(model=model, image=image, result=detections)\n",
    "    if isinstance(rendered_image, np.ndarray):\n",
    "        cv2.imwrite(annotated_image_path, rendered_image)\n",
    "        print(\"Annotated image saved to\", annotated_image_path)\n",
    "    else:\n",
    "        print(\"Rendered image is not in the correct format, drawing manually.\")\n",
    "        manually_annotate_image(image, detections, annotated_image_path)\n",
    "\n",
    "def manually_annotate_image(image, detections, save_path):\n",
    "    for box in detections.boxes.data:\n",
    "        x1, y1, x2, y2, conf, cls = map(int, box[:6])\n",
    "        label = detections.names.get(cls, str(cls))\n",
    "        cv2.rectangle(image, (x1, y1), (x2, y2), (0, 255, 0), 2)\n",
    "        cv2.putText(image, f\"{label} {conf:.2f}\", (x1, y1 - 10), cv2.FONT_HERSHEY_SIMPLEX, 0.5, (0, 255, 0), 2)\n",
    "    cv2.imwrite(save_path, image)\n",
    "    print(\"Manually annotated image saved to\", save_path)\n",
    "\n",
    "# Example usage\n",
    "image_path = 'images/BTCUSD_2024-04-17_09-36-41.png'\n",
    "yolo_predict(image_path)\n"
   ]
  }
 ],
 "metadata": {
  "kernelspec": {
   "display_name": "myenv",
   "language": "python",
   "name": "python3"
  },
  "language_info": {
   "codemirror_mode": {
    "name": "ipython",
    "version": 3
   },
   "file_extension": ".py",
   "mimetype": "text/x-python",
   "name": "python",
   "nbconvert_exporter": "python",
   "pygments_lexer": "ipython3",
   "version": "3.10.12"
  }
 },
 "nbformat": 4,
 "nbformat_minor": 2
}
