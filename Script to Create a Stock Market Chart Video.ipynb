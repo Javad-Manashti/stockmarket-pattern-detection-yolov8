{
 "cells": [
  {
   "cell_type": "code",
   "execution_count": 3,
   "metadata": {},
   "outputs": [
    {
     "name": "stdout",
     "output_type": "stream",
     "text": [
      "numpy version: 1.26.4\n",
      "opencv version: 4.9.0\n"
     ]
    }
   ],
   "source": [
    "import numpy\n",
    "import matplotlib.pyplot as plt\n",
    "import cv2\n",
    "\n",
    "print(\"numpy version:\", numpy.__version__)\n",
    "print(\"opencv version:\", cv2.__version__)\n"
   ]
  },
  {
   "cell_type": "code",
   "execution_count": 1,
   "metadata": {},
   "outputs": [
    {
     "name": "stderr",
     "output_type": "stream",
     "text": [
      "C:\\Users\\mjman\\AppData\\Local\\Temp\\ipykernel_24624\\1002778466.py:43: MatplotlibDeprecationWarning: The tostring_rgb function was deprecated in Matplotlib 3.8 and will be removed two minor releases later. Use buffer_rgba instead.\n",
      "  img = np.frombuffer(fig.canvas.tostring_rgb(), dtype=np.uint8)\n"
     ]
    }
   ],
   "source": [
    "import numpy as np\n",
    "import matplotlib.pyplot as plt\n",
    "import cv2\n",
    "import matplotlib.dates as mdates\n",
    "from datetime import datetime, timedelta\n",
    "\n",
    "# Function to simulate stock prices\n",
    "def simulate_stock_data(days=60):\n",
    "    prices = [100]  # Starting stock price\n",
    "    for _ in range(1, days):\n",
    "        change = np.random.normal(0, 2)  # Random walk hypothesis\n",
    "        new_price = prices[-1] * (1 + change / 100)\n",
    "        prices.append(new_price)\n",
    "    return prices\n",
    "\n",
    "# Create stock data\n",
    "days = 60  # Number of days to simulate\n",
    "data = simulate_stock_data(days)\n",
    "dates = [datetime.now() - timedelta(days=x) for x in range(days)][::-1]\n",
    "\n",
    "# Prepare the plot\n",
    "fig, ax = plt.subplots()\n",
    "fig.set_tight_layout(True)\n",
    "plt.xticks(rotation=45)\n",
    "ax.xaxis.set_major_locator(mdates.DayLocator(interval=10))\n",
    "ax.xaxis.set_major_formatter(mdates.DateFormatter('%Y-%m-%d'))\n",
    "\n",
    "# Set up video writer\n",
    "fourcc = cv2.VideoWriter_fourcc(*'mp4v')  # Video codec\n",
    "out = cv2.VideoWriter('stock_chart_simulation.mp4', fourcc, 2.0, (640, 480))\n",
    "\n",
    "# Plot and record each frame\n",
    "for i in range(1, len(data)):\n",
    "    ax.clear()\n",
    "    ax.plot(dates[:i], data[:i], label='Stock Price')\n",
    "    ax.set_title('Simulated Stock Market Data')\n",
    "    ax.set_xlabel('Date')\n",
    "    ax.set_ylabel('Price')\n",
    "    ax.legend()\n",
    "\n",
    "    # Draw the figure to a buffer\n",
    "    fig.canvas.draw()\n",
    "    img = np.frombuffer(fig.canvas.tostring_rgb(), dtype=np.uint8)\n",
    "    img = img.reshape(fig.canvas.get_width_height()[::-1] + (3,))\n",
    "    img = cv2.cvtColor(img, cv2.COLOR_RGB2BGR)\n",
    "\n",
    "    # Write frame to video\n",
    "    out.write(img)\n",
    "\n",
    "# Release resources\n",
    "out.release()\n",
    "plt.close()\n"
   ]
  }
 ],
 "metadata": {
  "kernelspec": {
   "display_name": ".venv",
   "language": "python",
   "name": "python3"
  },
  "language_info": {
   "codemirror_mode": {
    "name": "ipython",
    "version": 3
   },
   "file_extension": ".py",
   "mimetype": "text/x-python",
   "name": "python",
   "nbconvert_exporter": "python",
   "pygments_lexer": "ipython3",
   "version": "3.12.2"
  }
 },
 "nbformat": 4,
 "nbformat_minor": 2
}
